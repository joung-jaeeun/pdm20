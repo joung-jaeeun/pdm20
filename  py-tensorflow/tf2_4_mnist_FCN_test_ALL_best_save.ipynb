{
  "nbformat": 4,
  "nbformat_minor": 0,
  "metadata": {
    "colab": {
      "name": "tf2_4_mnist_FCN_test_ALL_best_save.ipynb",
      "provenance": [],
      "collapsed_sections": [],
      "include_colab_link": true
    },
    "kernelspec": {
      "name": "python3",
      "display_name": "Python 3"
    },
    "accelerator": "GPU"
  },
  "cells": [
    {
      "cell_type": "markdown",
      "metadata": {
        "id": "view-in-github",
        "colab_type": "text"
      },
      "source": [
        "<a href=\"https://colab.research.google.com/github/joung-jaeeun/pdm20/blob/main/%20py-tensorflow/tf2_4_mnist_FCN_test_ALL_best_save.ipynb\" target=\"_parent\"><img src=\"https://colab.research.google.com/assets/colab-badge.svg\" alt=\"Open In Colab\"/></a>"
      ]
    },
    {
      "cell_type": "markdown",
      "metadata": {
        "id": "eKScslg0Bk1E"
      },
      "source": [
        "## DNN (Deep Neural Networks) 구현 방법\n",
        "> - **Sequential model**\n",
        "> - Functional model\n",
        "> - Subclassing model"
      ]
    },
    {
      "cell_type": "markdown",
      "metadata": {
        "id": "rswfCVLZ-QW0"
      },
      "source": [
        "# **Test of mnist FCN model**\n",
        "## Sequential model\n",
        "- FCN3\n",
        "\n",
        "***\n",
        "\n",
        "![mnist_NN_2_layers](https://raw.githubusercontent.com/Redwoods/Py/master/pdm2020/my-note/py-tensorflow/images/mnist_NN_2_layers.png)"
      ]
    },
    {
      "cell_type": "code",
      "metadata": {
        "id": "8GgGzPXPVyfa",
        "colab": {
          "base_uri": "https://localhost:8080/"
        },
        "outputId": "5a48ed41-e55f-4746-d952-704d5aacbfae"
      },
      "source": [
        "import numpy as np\n",
        "import tensorflow as tf\n",
        "from tensorflow import keras\n",
        "import pandas as pd\n",
        "import matplotlib.pyplot as plt\n",
        "# %matplotlib inline\n",
        "\n",
        "print(tf.__version__)"
      ],
      "execution_count": 27,
      "outputs": [
        {
          "output_type": "stream",
          "name": "stdout",
          "text": [
            "2.6.0\n"
          ]
        }
      ]
    },
    {
      "cell_type": "markdown",
      "metadata": {
        "id": "-0IOOUM14Jk1"
      },
      "source": [
        "## **데이터 로딩, 정규화**"
      ]
    },
    {
      "cell_type": "code",
      "metadata": {
        "id": "N1ogJ7I64Fz-",
        "colab": {
          "base_uri": "https://localhost:8080/"
        },
        "outputId": "30409cf2-d66d-41b4-914f-f39305ac8b9c"
      },
      "source": [
        "from keras.datasets import mnist\n",
        "\n",
        "(X_train, y_train), (X_test, y_test) = mnist.load_data()\n",
        "X_train, X_test = X_train/255.0, X_test/255.0 # 정규화\n",
        "\n",
        "print(\"X_train={0}\".format(X_train.shape))\n",
        "print(\"y_train={0}\".format(y_train.shape)) \n",
        "print(\"X_test={0}\".format(X_test.shape))\n",
        "print(\"y_test={0}\".format(y_test.shape))"
      ],
      "execution_count": 28,
      "outputs": [
        {
          "output_type": "stream",
          "name": "stdout",
          "text": [
            "X_train=(60000, 28, 28)\n",
            "y_train=(60000,)\n",
            "X_test=(10000, 28, 28)\n",
            "y_test=(10000,)\n"
          ]
        }
      ]
    },
    {
      "cell_type": "code",
      "metadata": {
        "id": "F46-QZqJHiQ6"
      },
      "source": [
        "# One-Hot-Encoding\n",
        "# Use function to_categorical() to do One-Hot-Encoding\n",
        "# tf.keras.utils.to_categorical\n",
        "from tensorflow.keras.utils import to_categorical\n",
        "\n",
        "y_train = to_categorical(y_train, 10)\n",
        "y_test = to_categorical(y_test, 10)"
      ],
      "execution_count": 29,
      "outputs": []
    },
    {
      "cell_type": "markdown",
      "metadata": {
        "id": "zYsilPV-d68h"
      },
      "source": [
        "## **FCN3**"
      ]
    },
    {
      "cell_type": "markdown",
      "metadata": {
        "id": "8cihsjLOK9-P"
      },
      "source": [
        "### Control of training process\n",
        "- EarlyStopping\n",
        "    - patience\n",
        "- ModelCheckpoint\n",
        "    > Save best model during training"
      ]
    },
    {
      "cell_type": "code",
      "metadata": {
        "id": "GheJZ2V_Krq6"
      },
      "source": [
        "from tensorflow.keras import callbacks\n",
        "# from callbacks import ModelCheckpoint, EarlyStopping"
      ],
      "execution_count": 30,
      "outputs": []
    },
    {
      "cell_type": "code",
      "metadata": {
        "id": "RX59mbX4LmHY"
      },
      "source": [
        "mc_callback = callbacks.ModelCheckpoint(filepath=\"./mnist_fcn3_best_weights.{epoch:03d}-{val_accuracy:.3f}.hdf5\", \n",
        "                              monitor='val_accuracy', verbose=0, save_best_only=True)\n",
        "es_callback = callbacks.EarlyStopping(monitor='val_accuracy', \n",
        "                            mode='max', verbose=1, patience=20) "
      ],
      "execution_count": 31,
      "outputs": []
    },
    {
      "cell_type": "code",
      "metadata": {
        "id": "ru3C9Fdb5MJ9"
      },
      "source": [
        "# set random number seed\n",
        "np.random.seed(1234)\n",
        "tf.random.set_seed(1234)\n",
        "\n",
        "fcn3 = tf.keras.models.Sequential([ \n",
        "    tf.keras.layers.Flatten(input_shape=(28, 28)),\n",
        "    tf.keras.layers.Dense(256, activation='relu'),  \n",
        "    tf.keras.layers.Dropout(0.25),\n",
        "    tf.keras.layers.Dense(128, activation='relu'),  \n",
        "    tf.keras.layers.Dropout(0.25), \n",
        "    tf.keras.layers.Dense(10, activation='softmax')\n",
        "])\n",
        "\n",
        "fcn3.compile(optimizer='adam',\n",
        "              loss='categorical_crossentropy',\n",
        "              metrics=['accuracy']) \n"
      ],
      "execution_count": 32,
      "outputs": []
    },
    {
      "cell_type": "code",
      "metadata": {
        "id": "WUKcSnnc5XcD",
        "colab": {
          "base_uri": "https://localhost:8080/"
        },
        "outputId": "3f984372-be2a-43f9-e0d2-924ff022c8ec"
      },
      "source": [
        "fcn3.summary()"
      ],
      "execution_count": 33,
      "outputs": [
        {
          "output_type": "stream",
          "name": "stdout",
          "text": [
            "Model: \"sequential_2\"\n",
            "_________________________________________________________________\n",
            "Layer (type)                 Output Shape              Param #   \n",
            "=================================================================\n",
            "flatten_2 (Flatten)          (None, 784)               0         \n",
            "_________________________________________________________________\n",
            "dense_6 (Dense)              (None, 256)               200960    \n",
            "_________________________________________________________________\n",
            "dropout_4 (Dropout)          (None, 256)               0         \n",
            "_________________________________________________________________\n",
            "dense_7 (Dense)              (None, 128)               32896     \n",
            "_________________________________________________________________\n",
            "dropout_5 (Dropout)          (None, 128)               0         \n",
            "_________________________________________________________________\n",
            "dense_8 (Dense)              (None, 10)                1290      \n",
            "=================================================================\n",
            "Total params: 235,146\n",
            "Trainable params: 235,146\n",
            "Non-trainable params: 0\n",
            "_________________________________________________________________\n"
          ]
        }
      ]
    },
    {
      "cell_type": "code",
      "metadata": {
        "id": "WHnUbwan5Zq7",
        "colab": {
          "base_uri": "https://localhost:8080/"
        },
        "outputId": "b81c0485-8b69-443f-8205-3b127a4bf18a"
      },
      "source": [
        "# Training with callbacks\n",
        "hist = fcn3.fit(X_train,y_train, \n",
        "                epochs= 100 , \n",
        "                batch_size =100,\n",
        "                validation_data=(X_test,y_test),\n",
        "                callbacks=[mc_callback, es_callback])"
      ],
      "execution_count": 34,
      "outputs": [
        {
          "output_type": "stream",
          "name": "stdout",
          "text": [
            "Epoch 1/100\n",
            "600/600 [==============================] - 3s 4ms/step - loss: 0.3509 - accuracy: 0.8950 - val_loss: 0.1298 - val_accuracy: 0.9588\n",
            "Epoch 2/100\n",
            "600/600 [==============================] - 2s 4ms/step - loss: 0.1500 - accuracy: 0.9558 - val_loss: 0.0955 - val_accuracy: 0.9703\n",
            "Epoch 3/100\n",
            "600/600 [==============================] - 2s 4ms/step - loss: 0.1116 - accuracy: 0.9673 - val_loss: 0.0786 - val_accuracy: 0.9747\n",
            "Epoch 4/100\n",
            "600/600 [==============================] - 2s 4ms/step - loss: 0.0880 - accuracy: 0.9737 - val_loss: 0.0749 - val_accuracy: 0.9760\n",
            "Epoch 5/100\n",
            "600/600 [==============================] - 2s 4ms/step - loss: 0.0764 - accuracy: 0.9760 - val_loss: 0.0728 - val_accuracy: 0.9767\n",
            "Epoch 6/100\n",
            "600/600 [==============================] - 2s 4ms/step - loss: 0.0667 - accuracy: 0.9793 - val_loss: 0.0633 - val_accuracy: 0.9802\n",
            "Epoch 7/100\n",
            "600/600 [==============================] - 2s 4ms/step - loss: 0.0592 - accuracy: 0.9811 - val_loss: 0.0665 - val_accuracy: 0.9805\n",
            "Epoch 8/100\n",
            "600/600 [==============================] - 2s 4ms/step - loss: 0.0537 - accuracy: 0.9828 - val_loss: 0.0653 - val_accuracy: 0.9811\n",
            "Epoch 9/100\n",
            "600/600 [==============================] - 2s 4ms/step - loss: 0.0473 - accuracy: 0.9853 - val_loss: 0.0568 - val_accuracy: 0.9828\n",
            "Epoch 10/100\n",
            "600/600 [==============================] - 2s 4ms/step - loss: 0.0449 - accuracy: 0.9856 - val_loss: 0.0637 - val_accuracy: 0.9806\n",
            "Epoch 11/100\n",
            "600/600 [==============================] - 2s 4ms/step - loss: 0.0410 - accuracy: 0.9868 - val_loss: 0.0650 - val_accuracy: 0.9811\n",
            "Epoch 12/100\n",
            "600/600 [==============================] - 2s 4ms/step - loss: 0.0385 - accuracy: 0.9873 - val_loss: 0.0645 - val_accuracy: 0.9825\n",
            "Epoch 13/100\n",
            "600/600 [==============================] - 2s 4ms/step - loss: 0.0371 - accuracy: 0.9880 - val_loss: 0.0656 - val_accuracy: 0.9831\n",
            "Epoch 14/100\n",
            "600/600 [==============================] - 2s 4ms/step - loss: 0.0353 - accuracy: 0.9879 - val_loss: 0.0646 - val_accuracy: 0.9819\n",
            "Epoch 15/100\n",
            "600/600 [==============================] - 2s 4ms/step - loss: 0.0324 - accuracy: 0.9894 - val_loss: 0.0666 - val_accuracy: 0.9822\n",
            "Epoch 16/100\n",
            "600/600 [==============================] - 2s 4ms/step - loss: 0.0297 - accuracy: 0.9901 - val_loss: 0.0696 - val_accuracy: 0.9830\n",
            "Epoch 17/100\n",
            "600/600 [==============================] - 2s 4ms/step - loss: 0.0304 - accuracy: 0.9899 - val_loss: 0.0686 - val_accuracy: 0.9830\n",
            "Epoch 18/100\n",
            "600/600 [==============================] - 2s 4ms/step - loss: 0.0283 - accuracy: 0.9902 - val_loss: 0.0781 - val_accuracy: 0.9797\n",
            "Epoch 19/100\n",
            "600/600 [==============================] - 2s 4ms/step - loss: 0.0297 - accuracy: 0.9902 - val_loss: 0.0689 - val_accuracy: 0.9823\n",
            "Epoch 20/100\n",
            "600/600 [==============================] - 2s 4ms/step - loss: 0.0261 - accuracy: 0.9914 - val_loss: 0.0605 - val_accuracy: 0.9846\n",
            "Epoch 21/100\n",
            "600/600 [==============================] - 2s 4ms/step - loss: 0.0245 - accuracy: 0.9916 - val_loss: 0.0696 - val_accuracy: 0.9820\n",
            "Epoch 22/100\n",
            "600/600 [==============================] - 2s 4ms/step - loss: 0.0254 - accuracy: 0.9913 - val_loss: 0.0740 - val_accuracy: 0.9825\n",
            "Epoch 23/100\n",
            "600/600 [==============================] - 2s 4ms/step - loss: 0.0232 - accuracy: 0.9921 - val_loss: 0.0763 - val_accuracy: 0.9829\n",
            "Epoch 24/100\n",
            "600/600 [==============================] - 2s 4ms/step - loss: 0.0233 - accuracy: 0.9925 - val_loss: 0.0724 - val_accuracy: 0.9836\n",
            "Epoch 25/100\n",
            "600/600 [==============================] - 2s 4ms/step - loss: 0.0223 - accuracy: 0.9925 - val_loss: 0.0750 - val_accuracy: 0.9835\n",
            "Epoch 26/100\n",
            "600/600 [==============================] - 2s 4ms/step - loss: 0.0214 - accuracy: 0.9931 - val_loss: 0.0831 - val_accuracy: 0.9830\n",
            "Epoch 27/100\n",
            "600/600 [==============================] - 2s 4ms/step - loss: 0.0216 - accuracy: 0.9924 - val_loss: 0.0736 - val_accuracy: 0.9831\n",
            "Epoch 28/100\n",
            "600/600 [==============================] - 2s 4ms/step - loss: 0.0196 - accuracy: 0.9936 - val_loss: 0.0732 - val_accuracy: 0.9835\n",
            "Epoch 29/100\n",
            "600/600 [==============================] - 2s 4ms/step - loss: 0.0213 - accuracy: 0.9931 - val_loss: 0.0782 - val_accuracy: 0.9825\n",
            "Epoch 30/100\n",
            "600/600 [==============================] - 2s 4ms/step - loss: 0.0203 - accuracy: 0.9936 - val_loss: 0.0698 - val_accuracy: 0.9833\n",
            "Epoch 31/100\n",
            "600/600 [==============================] - 2s 4ms/step - loss: 0.0181 - accuracy: 0.9941 - val_loss: 0.0725 - val_accuracy: 0.9841\n",
            "Epoch 32/100\n",
            "600/600 [==============================] - 2s 4ms/step - loss: 0.0180 - accuracy: 0.9941 - val_loss: 0.0725 - val_accuracy: 0.9841\n",
            "Epoch 33/100\n",
            "600/600 [==============================] - 2s 4ms/step - loss: 0.0204 - accuracy: 0.9933 - val_loss: 0.0756 - val_accuracy: 0.9842\n",
            "Epoch 34/100\n",
            "600/600 [==============================] - 2s 4ms/step - loss: 0.0192 - accuracy: 0.9938 - val_loss: 0.0806 - val_accuracy: 0.9827\n",
            "Epoch 35/100\n",
            "600/600 [==============================] - 2s 4ms/step - loss: 0.0169 - accuracy: 0.9945 - val_loss: 0.0755 - val_accuracy: 0.9841\n",
            "Epoch 36/100\n",
            "600/600 [==============================] - 2s 4ms/step - loss: 0.0185 - accuracy: 0.9942 - val_loss: 0.0815 - val_accuracy: 0.9837\n",
            "Epoch 37/100\n",
            "600/600 [==============================] - 2s 4ms/step - loss: 0.0172 - accuracy: 0.9944 - val_loss: 0.0800 - val_accuracy: 0.9823\n",
            "Epoch 38/100\n",
            "600/600 [==============================] - 2s 4ms/step - loss: 0.0183 - accuracy: 0.9938 - val_loss: 0.0861 - val_accuracy: 0.9833\n",
            "Epoch 39/100\n",
            "600/600 [==============================] - 2s 4ms/step - loss: 0.0172 - accuracy: 0.9942 - val_loss: 0.0766 - val_accuracy: 0.9835\n",
            "Epoch 40/100\n",
            "600/600 [==============================] - 2s 4ms/step - loss: 0.0165 - accuracy: 0.9950 - val_loss: 0.0825 - val_accuracy: 0.9832\n",
            "Epoch 00040: early stopping\n"
          ]
        }
      ]
    },
    {
      "cell_type": "code",
      "metadata": {
        "id": "kTaGJMFG7FbH",
        "colab": {
          "base_uri": "https://localhost:8080/"
        },
        "outputId": "3ad485a3-3d51-4153-9318-d84bb3fb8d18"
      },
      "source": [
        "fcn3.evaluate(X_test, y_test, batch_size= 100)"
      ],
      "execution_count": 35,
      "outputs": [
        {
          "output_type": "stream",
          "name": "stdout",
          "text": [
            "100/100 [==============================] - 0s 3ms/step - loss: 0.0825 - accuracy: 0.9832\n"
          ]
        },
        {
          "output_type": "execute_result",
          "data": {
            "text/plain": [
              "[0.08245542645454407, 0.9832000136375427]"
            ]
          },
          "metadata": {},
          "execution_count": 35
        }
      ]
    },
    {
      "cell_type": "code",
      "metadata": {
        "id": "cfm87VmlM7Pr",
        "colab": {
          "base_uri": "https://localhost:8080/",
          "height": 294
        },
        "outputId": "a5601a75-d654-468a-e0c4-df41ea892c28"
      },
      "source": [
        "# 훈련 데이터와 검증 데이터에 대한 loss 시각화.\n",
        "epochs = range(1, len(hist.history['loss']) + 1)\n",
        "\n",
        "loss_list = hist.history['loss'] #[100 * i for i in history.history['loss']]\n",
        "vloss_list = hist.history['val_loss'] #[100 * i for i in history.history['val_loss']]\n",
        "\n",
        "plt.plot(epochs,loss_list)  \n",
        "plt.plot(epochs,vloss_list)\n",
        "\n",
        "plt.plot(np.argmin(np.array(vloss_list))+1,vloss_list[np.argmin(np.array(vloss_list))], 'r*')\n",
        "plt.title('mnist: NN(FCN) model - val_loss, min:' + str(np.round(vloss_list[np.argmin(np.array(vloss_list))],2)))\n",
        "plt.ylabel('val-Loss (%)')\n",
        "plt.xlabel('Epoch')\n",
        "plt.legend(['loss','val_loss','best'], loc='best')\n",
        "plt.show()"
      ],
      "execution_count": 36,
      "outputs": [
        {
          "output_type": "display_data",
          "data": {
            "image/png": "[encoded data removed]",
            "text/plain": [
              "<Figure size 432x288 with 1 Axes>"
            ]
          },
          "metadata": {
            "needs_background": "light"
          }
        }
      ]
    },
    {
      "cell_type": "code",
      "metadata": {
        "id": "lH4NQknvNBsE",
        "colab": {
          "base_uri": "https://localhost:8080/",
          "height": 294
        },
        "outputId": "8cc9afe3-8359-4680-ebe5-d9124a2b9519"
      },
      "source": [
        "# 훈련 데이터와 검증 데이터에 대한 accuracy 시각화.\n",
        "epochs = range(1, len(hist.history['accuracy']) + 1)\n",
        "\n",
        "acc_list = [100 * i for i in hist.history['accuracy']]\n",
        "vacc_list = [100 * i for i in hist.history['val_accuracy']]\n",
        "\n",
        "plt.plot(epochs,acc_list)  \n",
        "plt.plot(epochs,vacc_list)\n",
        "\n",
        "plt.plot(np.argmax(np.array(vacc_list))+1,vacc_list[np.argmax(np.array(vacc_list))], 'r*')\n",
        "plt.title('mnist: NN(FCN) model - val_accuracy, max:' + str(np.round(vacc_list[np.argmax(np.array(vacc_list))],2)))\n",
        "plt.ylabel('val-Accuracy (%)')\n",
        "plt.xlabel('Epoch')\n",
        "plt.legend(['accuracy','val_accuracy','best'], loc='best')\n",
        "plt.show()"
      ],
      "execution_count": 37,
      "outputs": [
        {
          "output_type": "display_data",
          "data": {
            "image/png": "[encoded data removed]",
            "text/plain": [
              "<Figure size 432x288 with 1 Axes>"
            ]
          },
          "metadata": {
            "needs_background": "light"
          }
        }
      ]
    },
    {
      "cell_type": "markdown",
      "metadata": {
        "id": "gBPKMI4y3fsa"
      },
      "source": [
        "## 모형의 재사용\n",
        "\n",
        "- 트레이닝 중 hdf5 형식으로 best model이 저장됨.\n",
        "- load 명령으로 불러 사용\n",
        "> best model: mnist_fcn3_best_weights.020-0.986.hdf5 \n",
        "\n",
        ">> mnist_fcn3_best_weights.044-0.985.hdf5\n",
        "\n",
        ">>mnist_fcn3_best_weights.017-0.984.hdf5"
      ]
    },
    {
      "cell_type": "code",
      "metadata": {
        "id": "b7-ysIVy3fse",
        "colab": {
          "base_uri": "https://localhost:8080/"
        },
        "outputId": "9ba69748-65f8-4f60-cc35-5e4469474240"
      },
      "source": [
        "from keras.models import load_model\n",
        "\n",
        "best_model = load_model('mnist_fcn3_best_weights.017-0.984.hdf5')  \n",
        "best_model.evaluate(X_test, y_test, batch_size=100)\n",
        "# mnist_fcn3_best_weights.017-0.984.hdf5\n",
        "# mnist_fcn3_best_weights.044-0.985.hdf5"
      ],
      "execution_count": 38,
      "outputs": [
        {
          "output_type": "stream",
          "name": "stdout",
          "text": [
            "100/100 [==============================] - 0s 2ms/step - loss: 0.0698 - accuracy: 0.9841\n"
          ]
        },
        {
          "output_type": "execute_result",
          "data": {
            "text/plain": [
              "[0.06982462108135223, 0.9840999841690063]"
            ]
          },
          "metadata": {},
          "execution_count": 38
        }
      ]
    },
    {
      "cell_type": "markdown",
      "metadata": {
        "id": "o6YQKW13EBhB"
      },
      "source": [
        "---"
      ]
    },
    {
      "cell_type": "markdown",
      "metadata": {
        "id": "mHPhgk3FmmPB"
      },
      "source": [
        "## Visualization of the best model\n",
        "---\n",
        "![mnist_fcn_best](https://raw.githubusercontent.com/Redwoods/Py/master/pdm2020/my-note/py-streamlit-21/app/mnist_fcn.png)"
      ]
    },
    {
      "cell_type": "code",
      "metadata": {
        "id": "-uYuq66xmsrG"
      },
      "source": [
        "def plot_pred(i, pred_y, true_y, img):\n",
        "    \n",
        "    plt.grid(False)  \n",
        "    plt.title(class_names[np.argmax(true_y)])\n",
        "    plt.xticks([])\n",
        "    plt.yticks([])\n",
        "\n",
        "    plt.imshow(img)\n",
        "\n",
        "    predicted_label = np.argmax(pred_y)\n",
        "    if predicted_label == np.argmax(true_y):   # np.argmax(true_label)\n",
        "        plt.suptitle(\"Test image-%d: Classified correctly\" % i)\n",
        "    else:\n",
        "        plt.suptitle(\"Test image-%d: Wrong classification\" % i)\n",
        "\n",
        "\n",
        "def plot_bar(pred_y, true_y):\n",
        "    \n",
        "    plt.grid(False)\n",
        "    plt.yticks([])\n",
        "    plt.xticks(np.arange(10), class_names, rotation=0)\n",
        "\n",
        "    thisplot = plt.bar(range(10), pred_y, color='grey')\n",
        "    plt.ylim([0, 1])\n",
        "    predicted_label = np.argmax(pred_y)\n",
        "\n",
        "    if predicted_label == np.argmax(true_y):  \n",
        "        color = 'green'\n",
        "    else:\n",
        "        color = 'red'\n",
        "\n",
        "    thisplot[predicted_label].set_color(color)\n"
      ],
      "execution_count": 39,
      "outputs": []
    },
    {
      "cell_type": "code",
      "metadata": {
        "id": "j-ebekW5qNAe",
        "colab": {
          "base_uri": "https://localhost:8080/"
        },
        "outputId": "3eb9f38b-f76d-40fa-fa3d-af05f36c8fa0"
      },
      "source": [
        "X_test.shape,y_test.shape"
      ],
      "execution_count": 40,
      "outputs": [
        {
          "output_type": "execute_result",
          "data": {
            "text/plain": [
              "((10000, 28, 28), (10000, 10))"
            ]
          },
          "metadata": {},
          "execution_count": 40
        }
      ]
    },
    {
      "cell_type": "code",
      "metadata": {
        "id": "vdavbni-nWyB",
        "colab": {
          "base_uri": "https://localhost:8080/"
        },
        "outputId": "2ed19e17-77ee-4c71-cba2-3eff6c179730"
      },
      "source": [
        "num = np.random.randint(0, len(y_test))\n",
        "y_pred0 = best_model.predict(X_test[num:num+1], verbose=1)"
      ],
      "execution_count": 41,
      "outputs": [
        {
          "output_type": "stream",
          "name": "stdout",
          "text": [
            "1/1 [==============================] - 0s 89ms/step\n"
          ]
        }
      ]
    },
    {
      "cell_type": "code",
      "metadata": {
        "id": "cFLEuELxqXDg",
        "colab": {
          "base_uri": "https://localhost:8080/"
        },
        "outputId": "04b023f9-bd43-4206-8f51-bf076c246f37"
      },
      "source": [
        "y_pred0"
      ],
      "execution_count": 42,
      "outputs": [
        {
          "output_type": "execute_result",
          "data": {
            "text/plain": [
              "array([[1.69605990e-17, 5.59719575e-14, 1.00000000e+00, 6.06039885e-10,\n",
              "        1.07057096e-14, 3.22305301e-17, 3.28213653e-17, 1.62843437e-12,\n",
              "        1.49371986e-12, 7.65670635e-18]], dtype=float32)"
            ]
          },
          "metadata": {},
          "execution_count": 42
        }
      ]
    },
    {
      "cell_type": "code",
      "metadata": {
        "id": "0FXr4jTzrAH3",
        "colab": {
          "base_uri": "https://localhost:8080/"
        },
        "outputId": "bcc28e4f-66c1-4109-a34b-b762c9019408"
      },
      "source": [
        "y_test0=y_test[num:num+1]\n",
        "y_test0"
      ],
      "execution_count": 43,
      "outputs": [
        {
          "output_type": "execute_result",
          "data": {
            "text/plain": [
              "array([[0., 0., 1., 0., 0., 0., 0., 0., 0., 0.]], dtype=float32)"
            ]
          },
          "metadata": {},
          "execution_count": 43
        }
      ]
    },
    {
      "cell_type": "code",
      "metadata": {
        "id": "QYC5cGWcrumm"
      },
      "source": [
        "X_test0 = X_test[num]"
      ],
      "execution_count": 44,
      "outputs": []
    },
    {
      "cell_type": "code",
      "metadata": {
        "id": "fstDlYF9rTxI"
      },
      "source": [
        "class_names = [\"0\",\"1\",\"2\",\"3\",\"4\",\"5\",\"6\",\"7\",\"8\",\"9\"]"
      ],
      "execution_count": 45,
      "outputs": []
    },
    {
      "cell_type": "code",
      "metadata": {
        "id": "AB2zf02bndrm",
        "colab": {
          "base_uri": "https://localhost:8080/",
          "height": 540
        },
        "outputId": "065864c5-f8ab-4ade-8b9f-fb50e9e238ff"
      },
      "source": [
        "plt.figure(figsize=(10,8))\n",
        "plt.subplot(2,1,1)\n",
        "plot_pred(num, y_pred0[0], y_test0[0], X_test0)\n",
        "plt.subplot(2,1,2)\n",
        "plot_bar(y_pred0[0],  y_test0[0])\n",
        "plt.title(\"Green: True, Red: False\")\n",
        "plt.show()"
      ],
      "execution_count": 46,
      "outputs": [
        {
          "output_type": "display_data",
          "data": {
            "image/png": "[encoded data removed]",
            "text/plain": [
              "<Figure size 720x576 with 2 Axes>"
            ]
          },
          "metadata": {
            "needs_background": "light"
          }
        }
      ]
    },
    {
      "cell_type": "markdown",
      "metadata": {
        "id": "qlnZWcmyv56p"
      },
      "source": [
        "---"
      ]
    },
    {
      "cell_type": "code",
      "metadata": {
        "id": "uwcUIZX_v8YL",
        "colab": {
          "base_uri": "https://localhost:8080/",
          "height": 557
        },
        "outputId": "6fe5cab9-3f4c-44b6-878c-a6cfb9751fc4"
      },
      "source": [
        "# Random test\n",
        "num = np.random.randint(0, len(y_test))\n",
        "y_pred0 = best_model.predict(X_test[num:num+1], verbose=1)\n",
        "y_test0=y_test[num:num+1]\n",
        "X_test0 = X_test[num]\n",
        "\n",
        "class_names = [\"0\",\"1\",\"2\",\"3\",\"4\",\"5\",\"6\",\"7\",\"8\",\"9\"]\n",
        "\n",
        "plt.figure(figsize=(10,8))\n",
        "plt.subplot(2,1,1)\n",
        "plot_pred(num, y_pred0[0], y_test0[0], X_test0)\n",
        "plt.subplot(2,1,2)\n",
        "plot_bar(y_pred0[0],  y_test0[0])\n",
        "plt.title(\"Green: True, Red: False\")\n",
        "plt.show()"
      ],
      "execution_count": 71,
      "outputs": [
        {
          "output_type": "stream",
          "name": "stdout",
          "text": [
            "1/1 [==============================] - 0s 16ms/step\n"
          ]
        },
        {
          "output_type": "display_data",
          "data": {
            "image/png": "[encoded data removed]",
            "text/plain": [
              "<Figure size 720x576 with 2 Axes>"
            ]
          },
          "metadata": {
            "needs_background": "light"
          }
        }
      ]
    }
  ]
}