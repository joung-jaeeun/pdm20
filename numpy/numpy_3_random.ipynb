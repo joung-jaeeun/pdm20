{
  "nbformat": 4,
  "nbformat_minor": 0,
  "metadata": {
    "colab": {
      "name": "numpy_3_random.ipynb",
      "provenance": [],
      "collapsed_sections": [],
      "include_colab_link": true
    },
    "kernelspec": {
      "name": "python3",
      "display_name": "Python 3"
    }
  },
  "cells": [
    {
      "cell_type": "markdown",
      "metadata": {
        "id": "view-in-github",
        "colab_type": "text"
      },
      "source": [
        "<a href=\"https://colab.research.google.com/github/joung-jaeeun/pdm20/blob/main/numpy/numpy_3_random.ipynb\" target=\"_parent\"><img src=\"https://colab.research.google.com/assets/colab-badge.svg\" alt=\"Open In Colab\"/></a>"
      ]
    },
    {
      "cell_type": "markdown",
      "metadata": {
        "id": "_zrirXHfgmyY"
      },
      "source": [
        "# numpy\n",
        "## random 서브모듈\n",
        "> [데이터싸이언스 스쿨:난수발생](https://datascienceschool.net/01%20python/03.05%20%EB%82%9C%EC%88%98%20%EB%B0%9C%EC%83%9D%EA%B3%BC%20%EC%B9%B4%EC%9A%B4%ED%8C%85.html)"
      ]
    },
    {
      "cell_type": "code",
      "metadata": {
        "id": "kQbzzSMZG2PX"
      },
      "source": [
        "import numpy as np"
      ],
      "execution_count": 1,
      "outputs": []
    },
    {
      "cell_type": "markdown",
      "metadata": {
        "id": "1Ry0YHkNFis5"
      },
      "source": [
        "## 난수 생성\n",
        "> NumPy의 random 서브모듈은 난수를 생성하는 다양한 명령을 제공.\n",
        "\n",
        "- rand: 0부터 1사이의 균일 분포 (uniform distribution)\n",
        "- randn: 가우시안 표준 정규 분포 (normal distribution, Gaussian)\n",
        "- randint: 균일 분포의 정수 난수 (uniform int)\n",
        "\n",
        "> randn()은 평균 0, 표준편차 1 인 가우시안 정규분포를 생성."
      ]
    },
    {
      "cell_type": "markdown",
      "metadata": {
        "id": "CtO1VxvurziR"
      },
      "source": [
        "### rand: 0부터 1사이의 균일 분포 (uniform distribution)"
      ]
    },
    {
      "cell_type": "code",
      "metadata": {
        "id": "LA1oF6aEG7kJ",
        "colab": {
          "base_uri": "https://localhost:8080/"
        },
        "outputId": "2d1ba601-4c9d-4d3f-d47a-3e568a6c3884"
      },
      "source": [
        "np.random.rand(5)"
      ],
      "execution_count": 2,
      "outputs": [
        {
          "output_type": "execute_result",
          "data": {
            "text/plain": [
              "array([0.64817977, 0.37170516, 0.69239144, 0.19688347, 0.38553907])"
            ]
          },
          "metadata": {},
          "execution_count": 2
        }
      ]
    },
    {
      "cell_type": "code",
      "metadata": {
        "id": "H6f4ix3NHCyR",
        "colab": {
          "base_uri": "https://localhost:8080/"
        },
        "outputId": "cf5e8c0c-c87d-4f5e-ca35-423d3b38f4ab"
      },
      "source": [
        "np.random.rand(5)"
      ],
      "execution_count": 3,
      "outputs": [
        {
          "output_type": "execute_result",
          "data": {
            "text/plain": [
              "array([0.89725308, 0.72045665, 0.59535991, 0.93009794, 0.23737184])"
            ]
          },
          "metadata": {},
          "execution_count": 3
        }
      ]
    },
    {
      "cell_type": "markdown",
      "metadata": {
        "id": "c88F6gf8r4K2"
      },
      "source": [
        "### randn: 가우시안 표준 정규 분포 (normal distribution, Gaussian)"
      ]
    },
    {
      "cell_type": "code",
      "metadata": {
        "id": "rtVfCL-uP2Tw",
        "colab": {
          "base_uri": "https://localhost:8080/"
        },
        "outputId": "20223e56-dee1-424a-8726-8af94cc649f5"
      },
      "source": [
        "np.random.randn(5)"
      ],
      "execution_count": 4,
      "outputs": [
        {
          "output_type": "execute_result",
          "data": {
            "text/plain": [
              "array([-0.06171769,  0.33292048, -0.11910263,  1.23737975, -1.15413698])"
            ]
          },
          "metadata": {},
          "execution_count": 4
        }
      ]
    },
    {
      "cell_type": "markdown",
      "metadata": {
        "id": "wsvTzTFSsBSJ"
      },
      "source": [
        "### randint: 균일 분포의 정수 난수 (uniform int)\n",
        "- numpy.random.randint(low, high=None, size=None, dtype='l')"
      ]
    },
    {
      "cell_type": "code",
      "metadata": {
        "id": "WSvAH8uVs2Vb",
        "colab": {
          "base_uri": "https://localhost:8080/"
        },
        "outputId": "a068d0b8-0ff8-482b-a55d-6794e4de7b11"
      },
      "source": [
        "np.random.randint(5)"
      ],
      "execution_count": 12,
      "outputs": [
        {
          "output_type": "execute_result",
          "data": {
            "text/plain": [
              "1"
            ]
          },
          "metadata": {},
          "execution_count": 12
        }
      ]
    },
    {
      "cell_type": "code",
      "metadata": {
        "colab": {
          "base_uri": "https://localhost:8080/"
        },
        "id": "_IP-fteJ2JYC",
        "outputId": "416cb7fe-9e72-43e8-b52d-2960e93f4a8b"
      },
      "source": [
        "#die number\n",
        "np.random.randint(1,7)"
      ],
      "execution_count": 13,
      "outputs": [
        {
          "output_type": "execute_result",
          "data": {
            "text/plain": [
              "1"
            ]
          },
          "metadata": {},
          "execution_count": 13
        }
      ]
    },
    {
      "cell_type": "code",
      "metadata": {
        "id": "McWHW15uQDPr",
        "colab": {
          "base_uri": "https://localhost:8080/"
        },
        "outputId": "0c25543a-fe8b-40b7-8d24-01c3a8eab8cf"
      },
      "source": [
        "np.random.randint(5,9) "
      ],
      "execution_count": 17,
      "outputs": [
        {
          "output_type": "execute_result",
          "data": {
            "text/plain": [
              "5"
            ]
          },
          "metadata": {},
          "execution_count": 17
        }
      ]
    },
    {
      "cell_type": "code",
      "metadata": {
        "id": "oBsWu9FmQQSC",
        "colab": {
          "base_uri": "https://localhost:8080/"
        },
        "outputId": "015156a7-dfc1-4355-db5a-9bcf243d0acb"
      },
      "source": [
        "np.random.randint(0,10,5) #0~9까지 다섯개를 만드는 것"
      ],
      "execution_count": 21,
      "outputs": [
        {
          "output_type": "execute_result",
          "data": {
            "text/plain": [
              "array([5, 5, 5, 1, 0])"
            ]
          },
          "metadata": {},
          "execution_count": 21
        }
      ]
    },
    {
      "cell_type": "code",
      "metadata": {
        "id": "0kNuJxjaQYEu",
        "colab": {
          "base_uri": "https://localhost:8080/"
        },
        "outputId": "71a28728-38cd-4418-90b5-ed89562fec11"
      },
      "source": [
        "np.random.randint(0,10,5)"
      ],
      "execution_count": 24,
      "outputs": [
        {
          "output_type": "execute_result",
          "data": {
            "text/plain": [
              "array([5, 3, 5, 2, 8])"
            ]
          },
          "metadata": {},
          "execution_count": 24
        }
      ]
    },
    {
      "cell_type": "markdown",
      "metadata": {
        "id": "K58DiNYUmANL"
      },
      "source": [
        "---"
      ]
    },
    {
      "cell_type": "markdown",
      "metadata": {
        "id": "xU5NWjQ3F_ld"
      },
      "source": [
        "## 난수 생성 seed 설정\n",
        "- numpy.random.seed(seed=None)\n",
        "- np.random.seed(number)"
      ]
    },
    {
      "cell_type": "code",
      "metadata": {
        "id": "AxUeYmQSQawG"
      },
      "source": [
        "np.random.seed() #seed값을 none으로 설정= 임의로 설정한 것,"
      ],
      "execution_count": 25,
      "outputs": []
    },
    {
      "cell_type": "code",
      "metadata": {
        "id": "C33YjKqvRJ33",
        "colab": {
          "base_uri": "https://localhost:8080/"
        },
        "outputId": "2b2753a6-286f-4437-96ac-da3c145565cc"
      },
      "source": [
        "np.random.rand(5)"
      ],
      "execution_count": 26,
      "outputs": [
        {
          "output_type": "execute_result",
          "data": {
            "text/plain": [
              "array([0.33211473, 0.51500092, 0.85635537, 0.12068356, 0.16761652])"
            ]
          },
          "metadata": {},
          "execution_count": 26
        }
      ]
    },
    {
      "cell_type": "code",
      "metadata": {
        "id": "Ne8rIyN9RO81",
        "colab": {
          "base_uri": "https://localhost:8080/"
        },
        "outputId": "bf6bf02a-8152-4986-964f-32c896bcf15e"
      },
      "source": [
        "np.random.rand(5)"
      ],
      "execution_count": 27,
      "outputs": [
        {
          "output_type": "execute_result",
          "data": {
            "text/plain": [
              "array([0.16166628, 0.11101201, 0.77384165, 0.19349253, 0.83704944])"
            ]
          },
          "metadata": {},
          "execution_count": 27
        }
      ]
    },
    {
      "cell_type": "markdown",
      "metadata": {
        "id": "wnQ4gFoltu81"
      },
      "source": [
        "### 동일한 무작위수 생성\n",
        "- seed를 고정하고 무작위수 생성"
      ]
    },
    {
      "cell_type": "code",
      "metadata": {
        "id": "LGPOJGfgRSWx"
      },
      "source": [
        "np.random.seed(1234) #seed값을 설정했는데 왜 임의로 나오나?"
      ],
      "execution_count": 28,
      "outputs": []
    },
    {
      "cell_type": "code",
      "metadata": {
        "id": "t2PNRUpfRXZk",
        "colab": {
          "base_uri": "https://localhost:8080/"
        },
        "outputId": "8037be91-9e96-45a1-f58b-c101bf23b6d1"
      },
      "source": [
        "np.random.rand(5)"
      ],
      "execution_count": 29,
      "outputs": [
        {
          "output_type": "execute_result",
          "data": {
            "text/plain": [
              "array([0.19151945, 0.62210877, 0.43772774, 0.78535858, 0.77997581])"
            ]
          },
          "metadata": {},
          "execution_count": 29
        }
      ]
    },
    {
      "cell_type": "code",
      "metadata": {
        "id": "x8yKednV8CZy",
        "colab": {
          "base_uri": "https://localhost:8080/"
        },
        "outputId": "9193c8ef-eb45-4689-9fb9-f56f6e705836"
      },
      "source": [
        "np.random.rand(5)"
      ],
      "execution_count": 30,
      "outputs": [
        {
          "output_type": "execute_result",
          "data": {
            "text/plain": [
              "array([0.27259261, 0.27646426, 0.80187218, 0.95813935, 0.87593263])"
            ]
          },
          "metadata": {},
          "execution_count": 30
        }
      ]
    },
    {
      "cell_type": "code",
      "metadata": {
        "id": "bo2A_ntYRcKw"
      },
      "source": [
        "np.random.seed(1234)"
      ],
      "execution_count": 33,
      "outputs": []
    },
    {
      "cell_type": "code",
      "metadata": {
        "id": "U5qXdwYQRYeT",
        "colab": {
          "base_uri": "https://localhost:8080/"
        },
        "outputId": "823fc93c-18f1-49d8-fe83-45b3894f0b98"
      },
      "source": [
        "np.random.rand(5)"
      ],
      "execution_count": 34,
      "outputs": [
        {
          "output_type": "execute_result",
          "data": {
            "text/plain": [
              "array([0.19151945, 0.62210877, 0.43772774, 0.78535858, 0.77997581])"
            ]
          },
          "metadata": {},
          "execution_count": 34
        }
      ]
    },
    {
      "cell_type": "markdown",
      "metadata": {
        "id": "pwMXGAwmRhpW"
      },
      "source": [
        "### seed 고정 후에 randint(5)"
      ]
    },
    {
      "cell_type": "code",
      "metadata": {
        "id": "tqmTOMMVRhGW",
        "colab": {
          "base_uri": "https://localhost:8080/"
        },
        "outputId": "50b81fc7-395b-452f-8d11-ce0dc91f217b"
      },
      "source": [
        "np.random.seed(5678) #seed값;임의로 고정\n",
        "np.random.randint(1,10,5)"
      ],
      "execution_count": 35,
      "outputs": [
        {
          "output_type": "execute_result",
          "data": {
            "text/plain": [
              "array([5, 8, 3, 5, 4])"
            ]
          },
          "metadata": {},
          "execution_count": 35
        }
      ]
    },
    {
      "cell_type": "code",
      "metadata": {
        "id": "YxQYjcOLSA-Z",
        "colab": {
          "base_uri": "https://localhost:8080/"
        },
        "outputId": "5598a8c0-1537-45f1-c77f-4cdee64feed3"
      },
      "source": [
        "np.random.randint(1,10,5)"
      ],
      "execution_count": 36,
      "outputs": [
        {
          "output_type": "execute_result",
          "data": {
            "text/plain": [
              "array([6, 3, 7, 4, 1])"
            ]
          },
          "metadata": {},
          "execution_count": 36
        }
      ]
    },
    {
      "cell_type": "code",
      "metadata": {
        "id": "aQYF5QpGSD6p",
        "colab": {
          "base_uri": "https://localhost:8080/"
        },
        "outputId": "fdf662e0-e528-4fb7-bcc8-156b6fcb7a1b"
      },
      "source": [
        "np.random.seed(5678)\n",
        "np.random.randint(1,10,5)"
      ],
      "execution_count": 37,
      "outputs": [
        {
          "output_type": "execute_result",
          "data": {
            "text/plain": [
              "array([5, 8, 3, 5, 4])"
            ]
          },
          "metadata": {},
          "execution_count": 37
        }
      ]
    },
    {
      "cell_type": "code",
      "metadata": {
        "id": "cfIhMEcVSGKa",
        "colab": {
          "base_uri": "https://localhost:8080/"
        },
        "outputId": "9c70d0d8-dbbe-445b-eedc-50125f73c1cf"
      },
      "source": [
        "np.random.seed(5678) #seed값을 고정하면 같은 값이 나옴.\n",
        "np.random.randint(1,10,5)"
      ],
      "execution_count": 38,
      "outputs": [
        {
          "output_type": "execute_result",
          "data": {
            "text/plain": [
              "array([5, 8, 3, 5, 4])"
            ]
          },
          "metadata": {},
          "execution_count": 38
        }
      ]
    },
    {
      "cell_type": "code",
      "metadata": {
        "id": "Ik9a-QkcfLwy"
      },
      "source": [
        "# seed 변경\n",
        "np.random.seed(0)\n",
        "np.random.randint(1,10,5)"
      ],
      "execution_count": null,
      "outputs": []
    },
    {
      "cell_type": "markdown",
      "metadata": {
        "id": "Zg3g31drmDMI"
      },
      "source": [
        "---\n",
        "---"
      ]
    },
    {
      "cell_type": "markdown",
      "metadata": {
        "id": "YNVh_pbhfROq"
      },
      "source": [
        "## DIY: 도전 코딩 - numpy 정리 과제\n",
        "- 생성된 마구잡이수를 조사하고 사용하기 \n",
        "- 9월19일 자정 마감."
      ]
    },
    {
      "cell_type": "markdown",
      "metadata": {
        "id": "vxNHFDSIgMmC"
      },
      "source": [
        "### [도전 1.] 0부터 9까지의 마구잡이 정수를 1000개 만들고 각 수의 빈도를 구하시오. "
      ]
    },
    {
      "cell_type": "code",
      "metadata": {
        "id": "qkDfXH1xgjBz",
        "colab": {
          "base_uri": "https://localhost:8080/"
        },
        "outputId": "dafd4ce1-2262-4275-e0de-43c2d40b3023"
      },
      "source": [
        "# n1000=\n",
        "n1000 = np.random.randint(0,10,1000)\n",
        "n1000"
      ],
      "execution_count": 39,
      "outputs": [
        {
          "output_type": "execute_result",
          "data": {
            "text/plain": [
              "array([5, 2, 6, 3, 0, 5, 3, 6, 9, 3, 3, 9, 8, 3, 3, 9, 1, 1, 5, 5, 8, 4,\n",
              "       0, 2, 2, 9, 2, 5, 5, 2, 0, 4, 5, 0, 0, 3, 7, 0, 2, 6, 8, 4, 9, 2,\n",
              "       4, 3, 7, 7, 1, 9, 8, 1, 7, 2, 5, 2, 4, 3, 6, 6, 5, 9, 3, 7, 8, 2,\n",
              "       8, 6, 1, 5, 8, 5, 6, 5, 5, 0, 8, 2, 9, 2, 9, 2, 5, 0, 2, 8, 5, 2,\n",
              "       5, 7, 8, 0, 1, 3, 1, 5, 8, 3, 1, 4, 3, 7, 8, 4, 7, 9, 1, 9, 1, 0,\n",
              "       8, 1, 8, 1, 6, 4, 4, 2, 4, 5, 6, 4, 5, 4, 7, 5, 7, 3, 4, 2, 4, 0,\n",
              "       4, 3, 9, 3, 5, 6, 6, 7, 2, 7, 8, 3, 1, 4, 4, 7, 6, 5, 3, 5, 3, 7,\n",
              "       9, 7, 6, 9, 0, 1, 6, 1, 9, 0, 2, 8, 0, 1, 9, 8, 8, 2, 5, 0, 2, 3,\n",
              "       7, 9, 2, 5, 1, 8, 8, 5, 0, 5, 2, 8, 2, 4, 7, 0, 1, 0, 9, 6, 8, 2,\n",
              "       5, 4, 0, 0, 2, 9, 2, 0, 0, 2, 0, 7, 1, 8, 6, 2, 7, 3, 6, 8, 7, 5,\n",
              "       3, 8, 6, 2, 0, 5, 5, 9, 3, 2, 9, 3, 4, 8, 7, 4, 7, 3, 5, 5, 4, 2,\n",
              "       4, 9, 5, 4, 9, 7, 6, 5, 6, 3, 1, 9, 3, 4, 9, 6, 7, 7, 0, 4, 4, 4,\n",
              "       5, 1, 5, 8, 5, 3, 1, 6, 7, 1, 4, 3, 3, 6, 0, 7, 1, 9, 5, 8, 5, 5,\n",
              "       1, 7, 9, 1, 8, 2, 5, 3, 5, 4, 5, 6, 7, 5, 0, 3, 1, 9, 4, 4, 5, 0,\n",
              "       9, 4, 1, 1, 5, 1, 4, 9, 5, 3, 5, 4, 1, 6, 8, 0, 6, 3, 7, 4, 0, 8,\n",
              "       9, 0, 9, 2, 9, 4, 5, 2, 6, 9, 8, 9, 7, 3, 9, 9, 4, 8, 2, 6, 8, 8,\n",
              "       9, 9, 7, 3, 8, 9, 5, 6, 1, 0, 5, 2, 8, 4, 3, 2, 8, 4, 7, 0, 9, 9,\n",
              "       2, 8, 7, 8, 6, 5, 7, 9, 8, 4, 2, 3, 5, 1, 0, 5, 5, 8, 5, 1, 3, 9,\n",
              "       1, 8, 8, 6, 6, 8, 8, 8, 6, 8, 8, 4, 3, 8, 4, 2, 3, 7, 6, 0, 8, 5,\n",
              "       2, 9, 2, 9, 2, 0, 9, 6, 8, 7, 0, 2, 6, 0, 9, 5, 6, 7, 8, 6, 4, 3,\n",
              "       0, 2, 7, 4, 2, 8, 7, 3, 5, 1, 2, 6, 7, 0, 8, 9, 1, 4, 6, 8, 7, 7,\n",
              "       0, 9, 9, 8, 7, 2, 3, 1, 2, 1, 8, 9, 2, 1, 9, 1, 0, 4, 3, 3, 3, 9,\n",
              "       4, 2, 3, 9, 4, 0, 0, 8, 2, 0, 1, 1, 8, 8, 0, 8, 3, 6, 4, 1, 6, 7,\n",
              "       5, 0, 7, 0, 8, 7, 9, 5, 9, 6, 5, 0, 3, 5, 6, 3, 3, 3, 3, 3, 3, 4,\n",
              "       6, 2, 7, 9, 2, 7, 4, 7, 0, 1, 3, 7, 5, 8, 3, 3, 8, 5, 7, 3, 3, 6,\n",
              "       7, 9, 2, 4, 6, 7, 6, 5, 3, 6, 4, 7, 9, 5, 5, 2, 5, 8, 7, 6, 6, 9,\n",
              "       8, 8, 3, 3, 1, 7, 2, 5, 9, 9, 6, 8, 8, 3, 0, 9, 4, 0, 2, 8, 1, 9,\n",
              "       4, 5, 3, 5, 5, 4, 1, 2, 2, 9, 5, 9, 9, 2, 0, 8, 4, 6, 1, 4, 1, 5,\n",
              "       0, 9, 6, 2, 8, 1, 1, 1, 4, 5, 6, 7, 9, 1, 8, 6, 1, 3, 5, 2, 8, 1,\n",
              "       2, 2, 1, 4, 0, 7, 2, 8, 4, 1, 5, 2, 1, 0, 0, 8, 2, 3, 7, 8, 8, 3,\n",
              "       8, 6, 5, 9, 1, 7, 7, 7, 8, 4, 5, 9, 6, 8, 3, 9, 5, 7, 4, 1, 4, 3,\n",
              "       3, 5, 8, 8, 4, 5, 6, 2, 9, 7, 1, 6, 6, 6, 2, 3, 3, 2, 2, 6, 9, 5,\n",
              "       5, 6, 0, 9, 5, 9, 4, 1, 7, 2, 7, 6, 8, 6, 7, 4, 9, 3, 4, 3, 6, 1,\n",
              "       7, 7, 2, 7, 5, 7, 5, 5, 5, 0, 4, 9, 9, 0, 8, 3, 4, 0, 4, 5, 5, 7,\n",
              "       7, 5, 1, 4, 0, 7, 6, 2, 3, 7, 8, 7, 4, 3, 0, 8, 8, 9, 7, 2, 0, 6,\n",
              "       4, 2, 0, 8, 0, 7, 1, 3, 9, 2, 6, 8, 2, 4, 1, 0, 6, 3, 6, 8, 9, 7,\n",
              "       6, 8, 1, 5, 9, 2, 4, 3, 0, 0, 3, 1, 7, 4, 3, 7, 7, 5, 9, 4, 1, 9,\n",
              "       4, 7, 5, 6, 7, 6, 7, 2, 2, 9, 6, 9, 8, 5, 7, 9, 9, 1, 3, 6, 2, 6,\n",
              "       3, 5, 6, 7, 4, 4, 7, 1, 2, 6, 9, 5, 2, 4, 1, 0, 1, 3, 5, 5, 5, 2,\n",
              "       9, 8, 8, 7, 0, 6, 8, 4, 3, 2, 7, 0, 8, 1, 8, 8, 5, 9, 0, 8, 8, 4,\n",
              "       9, 7, 2, 3, 3, 2, 8, 3, 1, 7, 2, 5, 8, 1, 7, 5, 5, 7, 7, 9, 1, 8,\n",
              "       5, 6, 0, 0, 2, 6, 5, 0, 7, 6, 6, 0, 7, 7, 7, 8, 4, 7, 8, 1, 6, 5,\n",
              "       6, 9, 6, 5, 9, 3, 4, 6, 7, 1, 6, 9, 8, 2, 1, 8, 9, 2, 4, 1, 8, 9,\n",
              "       1, 8, 7, 5, 7, 3, 1, 4, 5, 6, 5, 7, 5, 6, 8, 0, 1, 7, 2, 2, 5, 5,\n",
              "       5, 1, 5, 3, 1, 1, 4, 5, 5, 9, 0, 3, 1, 2, 9, 3, 8, 7, 6, 2, 3, 7,\n",
              "       4, 4, 1, 4, 8, 6, 5, 4, 7, 7])"
            ]
          },
          "metadata": {},
          "execution_count": 39
        }
      ]
    },
    {
      "cell_type": "code",
      "metadata": {
        "id": "9_6nzbQD3FZi",
        "colab": {
          "base_uri": "https://localhost:8080/"
        },
        "outputId": "910ad28b-c136-4c9a-d04b-f4c64e63e140"
      },
      "source": [
        "np.unique(n1000)"
      ],
      "execution_count": 40,
      "outputs": [
        {
          "output_type": "execute_result",
          "data": {
            "text/plain": [
              "array([0, 1, 2, 3, 4, 5, 6, 7, 8, 9])"
            ]
          },
          "metadata": {},
          "execution_count": 40
        }
      ]
    },
    {
      "cell_type": "code",
      "metadata": {
        "id": "eiw9R1243Rzp"
      },
      "source": [
        "# 각 수의 빈도"
      ],
      "execution_count": null,
      "outputs": []
    },
    {
      "cell_type": "markdown",
      "metadata": {
        "id": "cIhlY6-GghMN"
      },
      "source": [
        "### [도전 2.] 0부터 9까지의 마구잡이 정수를 1000개 만들고 각 수가 처음 출현하는 인덱스를 구하시오.\n",
        "> 0이 처음 나타날 때의 인덱스, 1이 처음 나타날 때의 인덱스, ... "
      ]
    },
    {
      "cell_type": "code",
      "metadata": {
        "colab": {
          "base_uri": "https://localhost:8080/"
        },
        "id": "yzrAGXhp4-fE",
        "outputId": "943e01b3-d5dd-4a41-8190-49242f1903e0"
      },
      "source": [
        "n1000[0],n1000[800]"
      ],
      "execution_count": 43,
      "outputs": [
        {
          "output_type": "execute_result",
          "data": {
            "text/plain": [
              "(5, 0)"
            ]
          },
          "metadata": {},
          "execution_count": 43
        }
      ]
    },
    {
      "cell_type": "code",
      "metadata": {
        "id": "oA1ec_RjgL3X"
      },
      "source": [
        "# 각 수가 처음 출현하는 인덱스\n"
      ],
      "execution_count": null,
      "outputs": []
    },
    {
      "cell_type": "code",
      "metadata": {
        "id": "yubibMMZ4AZS"
      },
      "source": [
        "# n1000[index]"
      ],
      "execution_count": null,
      "outputs": []
    },
    {
      "cell_type": "markdown",
      "metadata": {
        "id": "sadkRzWjgiTM"
      },
      "source": [
        "### [도전 3.] seed를 1234로 고정하고, 위의 도전1,2를 다시 해보시오. "
      ]
    },
    {
      "cell_type": "markdown",
      "metadata": {
        "id": "zAGojAainnox"
      },
      "source": [
        "### [도전 4.] 0부터 999까지의 마구잡이 정수로 구성되는 28X28 이차원배열을 만드시오.\n",
        "- 시드를 고정 : np.random.seed(1234)\n",
        "1. 각 행의 최대값, 최소갑을 구하시오.\n",
        "2. 배열 전체의 최대값, 최소값을 구하시오.\n",
        "3. 배열전체의 최대값, 최소값의 index를 각각 찾으시오."
      ]
    },
    {
      "cell_type": "markdown",
      "metadata": {
        "id": "VoSu8rNOnwPU"
      },
      "source": [
        "---\n",
        "---"
      ]
    },
    {
      "cell_type": "markdown",
      "metadata": {
        "id": "ozoCcRquhg4p"
      },
      "source": [
        "## python graphics\n",
        "- matplotlib\n",
        "> import matplotlib.pyplot as plt"
      ]
    },
    {
      "cell_type": "markdown",
      "metadata": {
        "id": "h6yEJiGJ4Lbk"
      },
      "source": [
        "### 무작위수 분포 그려보기"
      ]
    },
    {
      "cell_type": "code",
      "metadata": {
        "id": "ngcwuNlfhrIQ"
      },
      "source": [
        "import matplotlib.pyplot as plt"
      ],
      "execution_count": 53,
      "outputs": []
    },
    {
      "cell_type": "code",
      "metadata": {
        "id": "jr30IHxvJDuE",
        "colab": {
          "base_uri": "https://localhost:8080/",
          "height": 353
        },
        "outputId": "e5e256b1-2c21-4351-ffae-fd48f025aa9f"
      },
      "source": [
        "plt.hist(n1000,label=range(0,10), color='red', bins=20)\n",
        "# plt.show()"
      ],
      "execution_count": 58,
      "outputs": [
        {
          "output_type": "execute_result",
          "data": {
            "text/plain": [
              "(array([ 86.,   0.,  94.,   0.,  84.,   0., 112.,   0.,  87.,   0.,   0.,\n",
              "        108.,   0., 101.,   0., 117.,   0., 111.,   0., 100.]),\n",
              " array([0.  , 0.45, 0.9 , 1.35, 1.8 , 2.25, 2.7 , 3.15, 3.6 , 4.05, 4.5 ,\n",
              "        4.95, 5.4 , 5.85, 6.3 , 6.75, 7.2 , 7.65, 8.1 , 8.55, 9.  ]),\n",
              " <a list of 20 Patch objects>)"
            ]
          },
          "metadata": {},
          "execution_count": 58
        },
        {
          "output_type": "display_data",
          "data": {
            "image/png": "[encoded data removed]",
            "text/plain": [
              "<Figure size 432x288 with 1 Axes>"
            ]
          },
          "metadata": {
            "needs_background": "light"
          }
        }
      ]
    },
    {
      "cell_type": "markdown",
      "metadata": {
        "id": "b-JcgSU-Ktyz"
      },
      "source": [
        "### [도전] 균일분포와 정규분포를 비교하는 그림을 그리시오."
      ]
    },
    {
      "cell_type": "code",
      "metadata": {
        "id": "k0XaT2f9JGZy",
        "colab": {
          "base_uri": "https://localhost:8080/",
          "height": 353
        },
        "outputId": "48393772-3ae2-44ca-bb05-1443e332af5d"
      },
      "source": [
        "plt.hist(np.random.rand(1000))"
      ],
      "execution_count": 59,
      "outputs": [
        {
          "output_type": "execute_result",
          "data": {
            "text/plain": [
              "(array([122.,  96.,  98., 109.,  84.,  94., 107.,  94.,  99.,  97.]),\n",
              " array([3.00543852e-04, 1.00268378e-01, 2.00236213e-01, 3.00204047e-01,\n",
              "        4.00171882e-01, 5.00139716e-01, 6.00107551e-01, 7.00075385e-01,\n",
              "        8.00043220e-01, 9.00011054e-01, 9.99978889e-01]),\n",
              " <a list of 10 Patch objects>)"
            ]
          },
          "metadata": {},
          "execution_count": 59
        },
        {
          "output_type": "display_data",
          "data": {
            "image/png": "[encoded data removed]",
            "text/plain": [
              "<Figure size 432x288 with 1 Axes>"
            ]
          },
          "metadata": {
            "needs_background": "light"
          }
        }
      ]
    },
    {
      "cell_type": "code",
      "metadata": {
        "id": "T8SCqKVeMhBF",
        "colab": {
          "base_uri": "https://localhost:8080/",
          "height": 356
        },
        "outputId": "5c71fe83-c46d-4bb1-84f8-9238909bf66b"
      },
      "source": [
        "plt.hist(np.random.randn(1000))"
      ],
      "execution_count": 60,
      "outputs": [
        {
          "output_type": "execute_result",
          "data": {
            "text/plain": [
              "(array([  3.,  12.,  43., 125., 213., 240., 210., 104.,  33.,  17.]),\n",
              " array([-3.45844432, -2.82562104, -2.19279776, -1.55997448, -0.9271512 ,\n",
              "        -0.29432792,  0.33849536,  0.97131864,  1.60414192,  2.2369652 ,\n",
              "         2.86978848]),\n",
              " <a list of 10 Patch objects>)"
            ]
          },
          "metadata": {},
          "execution_count": 60
        },
        {
          "output_type": "display_data",
          "data": {
            "image/png": "[encoded data removed]",
            "text/plain": [
              "<Figure size 432x288 with 1 Axes>"
            ]
          },
          "metadata": {
            "needs_background": "light"
          }
        }
      ]
    },
    {
      "cell_type": "markdown",
      "metadata": {
        "id": "LYthn3089aqD"
      },
      "source": [
        "## 보충 코드"
      ]
    },
    {
      "cell_type": "code",
      "metadata": {
        "id": "BUkVDXTJMkwc",
        "colab": {
          "base_uri": "https://localhost:8080/"
        },
        "outputId": "cfad17ab-17f4-4a74-9dff-ff7d13758fa3"
      },
      "source": [
        "n1000 = np.random.randint(0,10,1000)\n",
        "n1000"
      ],
      "execution_count": 47,
      "outputs": [
        {
          "output_type": "execute_result",
          "data": {
            "text/plain": [
              "array([6, 0, 1, 9, 9, 4, 9, 6, 2, 3, 8, 2, 4, 7, 8, 2, 4, 4, 9, 1, 0, 3,\n",
              "       1, 2, 2, 9, 4, 4, 1, 8, 9, 2, 6, 6, 0, 4, 1, 7, 8, 4, 3, 8, 8, 9,\n",
              "       1, 4, 2, 5, 7, 8, 9, 0, 2, 3, 7, 6, 3, 7, 1, 0, 9, 0, 5, 6, 8, 5,\n",
              "       0, 6, 5, 8, 0, 8, 9, 3, 6, 9, 8, 5, 3, 8, 6, 3, 0, 1, 6, 4, 8, 2,\n",
              "       3, 7, 0, 2, 1, 5, 8, 7, 1, 4, 5, 5, 1, 7, 8, 7, 9, 5, 1, 1, 2, 6,\n",
              "       3, 4, 3, 9, 1, 9, 6, 9, 0, 4, 6, 5, 9, 8, 4, 3, 7, 5, 8, 6, 5, 8,\n",
              "       5, 9, 2, 2, 4, 7, 0, 9, 5, 9, 5, 8, 9, 7, 7, 8, 9, 7, 9, 3, 1, 3,\n",
              "       5, 7, 0, 4, 3, 2, 5, 8, 0, 9, 6, 5, 8, 8, 4, 5, 9, 2, 7, 3, 1, 5,\n",
              "       3, 6, 6, 3, 2, 8, 6, 2, 7, 6, 3, 5, 5, 2, 7, 8, 9, 8, 7, 9, 1, 8,\n",
              "       4, 3, 3, 8, 6, 5, 2, 4, 0, 8, 8, 2, 3, 6, 8, 9, 8, 7, 4, 7, 3, 7,\n",
              "       6, 0, 6, 0, 4, 0, 5, 1, 7, 2, 2, 6, 5, 5, 8, 3, 7, 9, 5, 7, 4, 2,\n",
              "       2, 7, 1, 0, 1, 7, 6, 7, 6, 9, 0, 5, 2, 3, 5, 3, 6, 5, 5, 7, 3, 3,\n",
              "       8, 6, 3, 4, 0, 6, 3, 6, 6, 5, 8, 3, 7, 8, 8, 5, 1, 0, 6, 5, 1, 1,\n",
              "       6, 4, 0, 3, 6, 4, 4, 0, 0, 6, 0, 6, 6, 6, 1, 3, 3, 5, 2, 3, 1, 9,\n",
              "       8, 0, 7, 3, 1, 6, 7, 7, 7, 4, 3, 1, 6, 3, 8, 2, 7, 3, 7, 0, 1, 0,\n",
              "       5, 1, 1, 0, 7, 4, 5, 9, 8, 5, 7, 5, 9, 3, 8, 9, 4, 9, 2, 6, 9, 1,\n",
              "       0, 0, 0, 8, 2, 5, 7, 1, 3, 7, 5, 3, 0, 4, 1, 4, 6, 0, 7, 7, 7, 4,\n",
              "       7, 8, 3, 3, 4, 5, 2, 3, 4, 4, 3, 2, 2, 7, 2, 7, 7, 9, 0, 4, 6, 1,\n",
              "       0, 2, 6, 1, 5, 3, 4, 3, 1, 8, 5, 5, 3, 7, 9, 6, 9, 4, 1, 0, 4, 3,\n",
              "       2, 2, 6, 2, 1, 5, 5, 5, 6, 9, 5, 7, 6, 7, 8, 8, 1, 4, 7, 7, 6, 8,\n",
              "       4, 7, 1, 0, 0, 3, 8, 5, 3, 5, 9, 8, 7, 1, 8, 9, 7, 8, 7, 1, 4, 2,\n",
              "       9, 6, 9, 6, 4, 8, 2, 4, 9, 8, 5, 5, 1, 4, 8, 8, 2, 0, 0, 4, 9, 6,\n",
              "       2, 7, 5, 8, 4, 9, 8, 5, 6, 8, 9, 0, 0, 7, 9, 1, 9, 6, 5, 7, 3, 3,\n",
              "       8, 1, 2, 4, 2, 1, 1, 8, 5, 3, 3, 7, 0, 4, 4, 0, 3, 8, 2, 2, 9, 4,\n",
              "       1, 0, 5, 3, 7, 9, 6, 1, 2, 6, 7, 1, 0, 2, 7, 0, 6, 4, 4, 8, 8, 0,\n",
              "       5, 9, 6, 6, 6, 2, 1, 2, 7, 2, 8, 7, 3, 7, 3, 0, 0, 5, 0, 6, 8, 2,\n",
              "       0, 5, 4, 6, 8, 0, 0, 3, 1, 9, 5, 8, 7, 8, 2, 5, 3, 1, 7, 1, 6, 1,\n",
              "       3, 7, 5, 3, 8, 4, 8, 9, 4, 8, 3, 1, 8, 3, 6, 7, 3, 9, 8, 1, 2, 3,\n",
              "       3, 4, 3, 5, 7, 5, 1, 4, 6, 3, 0, 3, 5, 7, 7, 0, 0, 8, 3, 0, 6, 3,\n",
              "       3, 6, 8, 4, 7, 9, 0, 5, 0, 6, 9, 6, 5, 3, 1, 8, 9, 9, 8, 0, 4, 9,\n",
              "       0, 7, 9, 6, 3, 4, 7, 9, 7, 1, 6, 9, 9, 2, 5, 0, 5, 7, 9, 4, 5, 8,\n",
              "       1, 6, 1, 7, 8, 4, 0, 2, 3, 1, 9, 5, 2, 5, 9, 7, 8, 3, 9, 9, 0, 7,\n",
              "       5, 5, 1, 1, 9, 6, 7, 6, 2, 7, 5, 7, 8, 2, 3, 4, 5, 9, 2, 6, 2, 1,\n",
              "       1, 8, 0, 6, 5, 8, 4, 4, 0, 1, 9, 0, 2, 7, 2, 0, 7, 6, 6, 5, 0, 9,\n",
              "       0, 6, 5, 5, 8, 0, 3, 8, 5, 6, 3, 0, 2, 8, 6, 2, 5, 1, 3, 1, 9, 5,\n",
              "       8, 1, 9, 7, 8, 4, 0, 5, 6, 7, 3, 4, 7, 4, 7, 8, 9, 9, 7, 5, 7, 3,\n",
              "       7, 1, 6, 2, 4, 2, 7, 9, 1, 8, 6, 9, 1, 5, 9, 3, 4, 8, 3, 8, 9, 5,\n",
              "       2, 8, 2, 8, 7, 5, 2, 4, 0, 3, 2, 7, 8, 9, 5, 7, 6, 3, 3, 9, 7, 1,\n",
              "       8, 8, 4, 7, 3, 0, 3, 7, 5, 8, 4, 0, 5, 6, 2, 8, 6, 3, 1, 9, 2, 7,\n",
              "       6, 4, 5, 4, 7, 5, 3, 3, 8, 8, 3, 2, 5, 2, 7, 6, 1, 2, 1, 7, 5, 9,\n",
              "       9, 1, 2, 0, 9, 5, 1, 5, 5, 1, 7, 8, 5, 8, 7, 9, 7, 2, 3, 4, 9, 5,\n",
              "       8, 7, 1, 1, 5, 2, 1, 3, 6, 0, 6, 2, 6, 1, 0, 3, 3, 3, 1, 4, 8, 9,\n",
              "       7, 7, 6, 9, 9, 0, 3, 5, 1, 0, 3, 8, 9, 6, 9, 6, 0, 5, 3, 8, 4, 3,\n",
              "       7, 7, 3, 9, 1, 6, 2, 8, 2, 6, 1, 1, 1, 1, 7, 2, 7, 4, 5, 4, 1, 4,\n",
              "       3, 4, 9, 9, 2, 7, 6, 9, 5, 1, 2, 3, 6, 8, 3, 0, 9, 8, 9, 8, 3, 4,\n",
              "       5, 4, 6, 7, 3, 4, 3, 4, 7, 6])"
            ]
          },
          "metadata": {},
          "execution_count": 47
        }
      ]
    },
    {
      "cell_type": "code",
      "metadata": {
        "id": "xza_yV8nMshU"
      },
      "source": [
        "value, count= np.unique(n1000, return_counts=True)"
      ],
      "execution_count": 49,
      "outputs": []
    },
    {
      "cell_type": "code",
      "metadata": {
        "id": "al1pM1aK9Vk7",
        "colab": {
          "base_uri": "https://localhost:8080/"
        },
        "outputId": "4c0e9f94-870f-4dec-b040-7811b8390fc8"
      },
      "source": [
        "value, count"
      ],
      "execution_count": 50,
      "outputs": [
        {
          "output_type": "execute_result",
          "data": {
            "text/plain": [
              "(array([0, 1, 2, 3, 4, 5, 6, 7, 8, 9]),\n",
              " array([ 86,  94,  84, 112,  87, 108, 101, 117, 111, 100]))"
            ]
          },
          "metadata": {},
          "execution_count": 50
        }
      ]
    },
    {
      "cell_type": "code",
      "metadata": {
        "id": "y6pTwi-N6BH2"
      },
      "source": [
        ""
      ],
      "execution_count": 60,
      "outputs": []
    }
  ]
}