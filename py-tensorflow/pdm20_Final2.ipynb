{
  "nbformat": 4,
  "nbformat_minor": 0,
  "metadata": {
    "colab": {
      "name": "pdm20_Final2.ipynb",
      "provenance": [],
      "collapsed_sections": [],
      "authorship_tag": "ABX9TyOZ4gwfOsHdKn7v9VMwKMrh",
      "include_colab_link": true
    },
    "kernelspec": {
      "name": "python3",
      "display_name": "Python 3"
    },
    "language_info": {
      "name": "python"
    }
  },
  "cells": [
    {
      "cell_type": "markdown",
      "metadata": {
        "id": "view-in-github",
        "colab_type": "text"
      },
      "source": [
        "<a href=\"https://colab.research.google.com/github/joung-jaeeun/pdm20/blob/main/py-tensorflow/pdm20_Final2.ipynb\" target=\"_parent\"><img src=\"https://colab.research.google.com/assets/colab-badge.svg\" alt=\"Open In Colab\"/></a>"
      ]
    },
    {
      "cell_type": "markdown",
      "source": [
        "<Data : 10 % cifar10 training data를 이용해서 TL을 수행>\n",
        "\n",
        "(TL_base: MobileNetV2)\n",
        "\n",
        "2.Data augmentation and Network architecture\n",
        "\n",
        "3.Fine Tuning, save the best model\n",
        "\n",
        "4.Prediction using the best mode, Confusion matrix\n",
        "\n",
        "5.+ alpha (Your attempt and idea)"
      ],
      "metadata": {
        "id": "0HTjK6Z8RfMn"
      }
    },
    {
      "cell_type": "markdown",
      "source": [
        "###ImageDataGenerator 생성\n",
        "\n",
        "\n",
        "\n",
        "\n",
        "\n"
      ],
      "metadata": {
        "id": "ioFdf-rERqra"
      }
    },
    {
      "cell_type": "code",
      "source": [
        "import os, re, time, json\n",
        "\n",
        "import tensorflow as tf\n",
        "import numpy as np\n",
        "\n",
        "\n",
        "from tensorflow.keras.applications.mobilenet_v2 import  MobileNetV2, preprocess_input\n",
        "from matplotlib import pyplot as plt\n",
        "import tensorflow_datasets as tfds\n",
        "\n",
        "from tensorflow.keras.preprocessing.image import load_img\n",
        "from tensorflow.keras.preprocessing.image import img_to_array\n",
        "from tensorflow.keras.preprocessing.image import ImageDataGenerator\n",
        "\n",
        "\n",
        "gen =ImageDateGenerator(rotation_range = 30,\n",
        "                        width_shift_range =0.3,\n",
        "                        shear_range-0.4,\n",
        "                        gorizontal_flip=True)  #-->ImageDateGenerator()함수를 사용해서 원본이미지에 대해서 30도 이내에서 회전,가로 방향 30% 범위에서 이동, 이미지 기울임은 40% 범위에서 기울임, 좌우반전 가능한 변화를 줌"
      ],
      "metadata": {
        "id": "8i0oXiTkYFXP",
        "colab": {
          "base_uri": "https://localhost:8080/",
          "height": 136
        },
        "outputId": "3f1eb5b1-0226-4288-d09f-89140afa8b75"
      },
      "execution_count": 3,
      "outputs": [
        {
          "output_type": "error",
          "ename": "SyntaxError",
          "evalue": "ignored",
          "traceback": [
            "\u001b[0;36m  File \u001b[0;32m\"<ipython-input-3-753a56a8e445>\"\u001b[0;36m, line \u001b[0;32m18\u001b[0m\n\u001b[0;31m    shear_range-0.4,\u001b[0m\n\u001b[0m    ^\u001b[0m\n\u001b[0;31mSyntaxError\u001b[0m\u001b[0;31m:\u001b[0m positional argument follows keyword argument\n"
          ]
        }
      ]
    },
    {
      "cell_type": "markdown",
      "source": [
        "###flow() 함수 적용"
      ],
      "metadata": {
        "id": "gqBD1Z5HSIvV"
      }
    },
    {
      "cell_type": "code",
      "source": [
        "\n",
        "\n",
        "#Define the batch size\n",
        "# BATCH_SIZE = 100 \n",
        "\n",
        "data_gen = gen.flow(np.array(img_array_list),\n",
        "                    batch_size=batch_siz)  #-->flow()함수에 입력으로 주어지는 원본 데이터 형상(shape) = (원본 데이터 전체 개수,높이,너비,채널형상을 가지는 4차원 첸서로 주어져야 함.)"
      ],
      "metadata": {
        "id": "aE92xzDYbKE_",
        "colab": {
          "base_uri": "https://localhost:8080/",
          "height": 226
        },
        "outputId": "a70f2c09-40af-4052-c6f4-b8e9f1a04a4d"
      },
      "execution_count": 2,
      "outputs": [
        {
          "output_type": "error",
          "ename": "NameError",
          "evalue": "ignored",
          "traceback": [
            "\u001b[0;31m---------------------------------------------------------------------------\u001b[0m",
            "\u001b[0;31mNameError\u001b[0m                                 Traceback (most recent call last)",
            "\u001b[0;32m<ipython-input-2-fb6fa337207e>\u001b[0m in \u001b[0;36m<module>\u001b[0;34m()\u001b[0m\n\u001b[1;32m      4\u001b[0m \u001b[0;31m# BATCH_SIZE = 100\u001b[0m\u001b[0;34m\u001b[0m\u001b[0;34m\u001b[0m\u001b[0;34m\u001b[0m\u001b[0m\n\u001b[1;32m      5\u001b[0m \u001b[0;34m\u001b[0m\u001b[0m\n\u001b[0;32m----> 6\u001b[0;31m data_gen = gen.flow(np.array(img_array_list),\n\u001b[0m\u001b[1;32m      7\u001b[0m                     batch_size=batch_siz)  #-->flow()함수에 입력으로 주어지는 원본 데이터 형상(shape) = (원본 데이터 전체 개수,높이,너비,채널형상을 가지는 4차원 첸서로 주어져야 함.)\n",
            "\u001b[0;31mNameError\u001b[0m: name 'gen' is not defined"
          ]
        }
      ]
    },
    {
      "cell_type": "markdown",
      "source": [
        "###이미지 로드 및 정규화"
      ],
      "metadata": {
        "id": "OdtXG0BhTSzE"
      }
    },
    {
      "cell_type": "code",
      "source": [
        "#Define the class (category) names\n",
        "classes = ['airplane', 'automobile', 'bird', 'cat', 'deer', 'dog', 'frog', 'horse', 'ship', 'truck']"
      ],
      "metadata": {
        "id": "rJs_vBAmTQMr"
      },
      "execution_count": null,
      "outputs": []
    },
    {
      "cell_type": "markdown",
      "source": [
        "###next()실행 및 변형 이미지 출력"
      ],
      "metadata": {
        "id": "8blIWedETbNq"
      }
    },
    {
      "cell_type": "code",
      "source": [
        "Img = data_gen.next() #->batch_siz=100 지정된 개수만큼 이미지 생성\n",
        "\n",
        "plt.figure(figsize=(6,6))\n",
        "for i in range(len(img)):\n",
        "  plt.subplot(1,len(img), i+1)\n",
        "  plt.xticks([]); plt.yticks([])\n",
        "  plt.imshow(img[i])"
      ],
      "metadata": {
        "id": "sr5A2hXBdOUf"
      },
      "execution_count": null,
      "outputs": []
    },
    {
      "cell_type": "markdown",
      "source": [
        "#5. +alpha\n",
        "-cifar_augment 함수\n",
        "\n",
        "-read_CIFAR10_subset 함수\n",
        "\n",
        "-DataSet 클래스"
      ],
      "metadata": {
        "id": "z5qTwq9ePY2e"
      }
    },
    {
      "cell_type": "code",
      "execution_count": null,
      "metadata": {
        "id": "68hk9yxWPVQz"
      },
      "outputs": [],
      "source": [
        "#cifar_augment 함수\n",
        "\n",
        "def cifar_augment(images):\n",
        "    \"\"\"\n",
        "    Perform data augmentation from cifar images.\n",
        "    :param images: np.ndarray, shape: (N, C, H, W).\n",
        "    :return: np.ndarray, shape: (N, C, H, W).\n",
        "    \"\"\"\n",
        "    augmented_images = []\n",
        "    for image in images:    # image.shape: (C, H, W)\n",
        "        # horizontal flip with 0.5 probability\n",
        "        reflection = bool(np.random.randint(2))\n",
        "        if reflection:\n",
        "             image = np.fliplr(image)\n",
        "\n",
        "        # random cropping with padding\n",
        "        image_pad = np.pad(image, ((4,4), (4,4), (0,0)), mode='constant')\n",
        "\n",
        "        crop_x1 = random.randint(0, 8)\n",
        "        crop_x2 = crop_x1 + 32\n",
        "        crop_y1 = random.randint(0, 8)\n",
        "        crop_y2 = crop_y1 + 32\n",
        "\n",
        "        image_crop = image_pad[crop_x1:crop_x2, crop_y1:crop_y2]\n",
        "\n",
        "        augmented_images.append(image_crop)\n",
        "\n",
        "    return np.stack(augmented_images)    # shape: (N, C, H, W)"
      ]
    },
    {
      "cell_type": "code",
      "source": [
        "#read_CIFAR10_subset 함수\n",
        "\n",
        "def read_CIFAR10_subset():\n",
        "    \"\"\"\n",
        "    Load the CIFAR-10 data subset from keras helper module\n",
        "    and perform preprocessing for training ResNet.\n",
        "    :return: X_set: np.ndarray, shape: (N, H, W, C).\n",
        "             y_set: np.ndarray, shape: (N, num_channels) or (N,).\n",
        "    \"\"\"\n",
        "\n",
        "    # Download CIFAR-10 data and load data\n",
        "    (x_train, y_train), (x_test, y_test) = load_data()\n",
        "\n",
        "    y_train_oh = np.zeros((len(y_train), 10), dtype=np.uint8)\n",
        "    for i in range(len(y_train)):\n",
        "        y_train_oh[i, y_train[i]] = 1\n",
        "    y_train_one_hot = y_train_oh\n",
        "\n",
        "    y_test_oh = np.zeros((len(y_test), 10), dtype=np.uint8)\n",
        "    for i in range(len(y_test)):\n",
        "        y_test_oh[i, y_test[i]] = 1\n",
        "    y_test_one_hot = y_test_oh\n",
        "\n",
        "    x_train = x_train/255.0\n",
        "    x_test = x_test/255.0\n",
        "\n",
        "    cifar_mean = np.array([0.4914, 0.4822, 0.4465])\n",
        "    cifar_std = np.array([0.2470, 0.2435, 0.2616])\n",
        "\n",
        "    for i in range(len(x_train)):\n",
        "        x_train[i] -= cifar_mean\n",
        "        x_train[i] /= cifar_std\n",
        "\n",
        "    for j in range(len(x_test)):\n",
        "        x_test[j] -= cifar_mean\n",
        "        x_test[j] /= cifar_std\n",
        "\n",
        "    print('x_train shape : ', x_train.shape, end='\\n')\n",
        "    print('x_test shape : ', x_test.shape, end='\\n')\n",
        "    print('y_train_one_hot shape : ', y_train_one_hot.shape, end='\\n')\n",
        "    print('y_test_one_hot shape : ', y_test_one_hot.shape, end='\\n')\n",
        "    print('\\nDone')\n",
        "\n",
        "    return x_train, x_test, y_train_one_hot, y_test_one_hot"
      ],
      "metadata": {
        "id": "f2yyoNd5Pz5J"
      },
      "execution_count": null,
      "outputs": []
    },
    {
      "cell_type": "code",
      "source": [
        "#DataSet 클래스\n",
        "\n",
        "class DataSet(object):\n",
        "    def __init__(self, images, labels=None):\n",
        "        \"\"\"\n",
        "        Construct a new DataSet object.\n",
        "        :param images: np.ndarray, shape: (N, H, W, C).\n",
        "        :param labels: np.ndarray, shape: (N, num_classes) or (N,).\n",
        "        \"\"\"\n",
        "        if labels is not None:\n",
        "            assert images.shape[0] == labels.shape[0], (\n",
        "                'Number of examples mismatch, between images and labels.'\n",
        "            )\n",
        "        self._num_examples = images.shape[0]\n",
        "        self._images = images\n",
        "        self._labels = labels    # NOTE: this can be None, if not given.\n",
        "        self._indices = np.arange(self._num_examples, dtype=np.uint)    # image/label indices(can be permuted)\n",
        "        self._reset()\n",
        "\n",
        "    def _reset(self):\n",
        "        \"\"\"Reset some variables.\"\"\"\n",
        "        self._epochs_completed = 0\n",
        "        self._index_in_epoch = 0\n",
        "\n",
        "    @property\n",
        "    def images(self):\n",
        "        return self._images\n",
        "\n",
        "    @property\n",
        "    def labels(self):\n",
        "        return self._labels\n",
        "\n",
        "    @property\n",
        "    def num_examples(self):\n",
        "        return self._num_examples\n",
        "\n",
        "    def next_batch(self, batch_size, shuffle=True, augment=True, is_train=True,\n",
        "                   fake_data=False):\n",
        "        \"\"\"\n",
        "        Return the next `batch_size` examples from this dataset.\n",
        "        :param batch_size: int, size of a single batch.\n",
        "        :param shuffle: bool, whether to shuffle the whole set while sampling a batch.\n",
        "        :param augment: bool, whether to perform data augmentation while sampling a batch.\n",
        "        :param is_train: bool, current phase for sampling.\n",
        "        :param fake_data: bool, whether to generate fake data (for debugging).\n",
        "        :return: batch_images: np.ndarray, shape: (N, h, w, C) or (N, 10, h, w, C).\n",
        "                 batch_labels: np.ndarray, shape: (N, num_classes) or (N,).\n",
        "        \"\"\"\n",
        "\n",
        "        start_index = self._index_in_epoch\n",
        "\n",
        "        # Shuffle the dataset, for the first epoch\n",
        "        if self._epochs_completed == 0 and start_index == 0 and shuffle:\n",
        "            np.random.shuffle(self._indices)\n",
        "\n",
        "        # Go to the next epoch, if current index goes beyond the total number of examples\n",
        "        if start_index + batch_size > self._num_examples:\n",
        "            # Increment the number of epochs completed\n",
        "            self._epochs_completed += 1\n",
        "            # Get the rest examples in this epoch\n",
        "            rest_num_examples = self._num_examples - start_index\n",
        "            indices_rest_part = self._indices[start_index:self._num_examples]\n",
        "\n",
        "            # Shuffle the dataset, after finishing a single epoch\n",
        "            if shuffle:\n",
        "                np.random.shuffle(self._indices)\n",
        "\n",
        "            # Start the next epoch\n",
        "            start_index = 0\n",
        "            self._index_in_epoch = batch_size - rest_num_examples\n",
        "            end_index = self._index_in_epoch\n",
        "            indices_new_part = self._indices[start_index:end_index]\n",
        "\n",
        "            images_rest_part = self.images[indices_rest_part]\n",
        "            images_new_part = self.images[indices_new_part]\n",
        "            batch_images = np.concatenate((images_rest_part, images_new_part), axis=0)\n",
        "            if self.labels is not None:\n",
        "                labels_rest_part = self.labels[indices_rest_part]\n",
        "                labels_new_part = self.labels[indices_new_part]\n",
        "                batch_labels = np.concatenate((labels_rest_part, labels_new_part), axis=0)\n",
        "            else:\n",
        "                batch_labels = None\n",
        "        else:\n",
        "            self._index_in_epoch += batch_size\n",
        "            end_index = self._index_in_epoch\n",
        "            indices = self._indices[start_index:end_index]\n",
        "            batch_images = self.images[indices]\n",
        "            if self.labels is not None:\n",
        "                batch_labels = self.labels[indices]\n",
        "            else:\n",
        "                batch_labels = None\n",
        "\n",
        "        if augment and is_train:\n",
        "            # Perform data augmentation, for training phase\n",
        "            batch_images = cifar_augment(batch_images)\n",
        "        else:\n",
        "            # Don't perform data augmentation\n",
        "            batch_images = batch_images\n",
        "\n",
        "        return batch_images, batch_labels"
      ],
      "metadata": {
        "id": "Xibz3v9PQQZf"
      },
      "execution_count": null,
      "outputs": []
    }
  ]
}